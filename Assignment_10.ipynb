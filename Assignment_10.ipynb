{
 "cells": [
  {
   "cell_type": "markdown",
   "metadata": {},
   "source": [
    "# Assignment 10"
   ]
  },
  {
   "cell_type": "markdown",
   "metadata": {},
   "source": [
    "### 1.复习上课内容"
   ]
  },
  {
   "cell_type": "markdown",
   "metadata": {},
   "source": [
    "### 2. 回答一下理论题目"
   ]
  },
  {
   "cell_type": "markdown",
   "metadata": {},
   "source": [
    "#### 1. What is independent assumption in Naive bayes ?"
   ]
  },
  {
   "cell_type": "markdown",
   "metadata": {},
   "source": [
    "    即所有的特征在数据集中的作用是独立同分布的"
   ]
  },
  {
   "cell_type": "markdown",
   "metadata": {},
   "source": [
    "#### 2. What is MAP(maximum a posterior) and ML(maximum likelihood) ?"
   ]
  },
  {
   "cell_type": "markdown",
   "metadata": {},
   "source": [
    "    MAP：极大后验法，一种计数估计，在计数之前给定一些数值（即先验概率）。先验有强弱之分，强的先验不容易受到似然估计的影响，弱的先验容易受到似然估计的影响。\n",
    "    ML：极大似然估计，对于一组可以观察到的数据x，每个数据有N个维度，选择其中一个, 假设是i, 进行计数. 该数在第i维度下, 各个数字的数量. 通过以上步骤可以得出该组数据的概率分布，取概率分布密度最大的值。"
   ]
  },
  {
   "cell_type": "markdown",
   "metadata": {},
   "source": [
    "#### 3. What is support vector in SVM?"
   ]
  },
  {
   "cell_type": "markdown",
   "metadata": {},
   "source": [
    "    对一堆数据点进行分类时，当超平面离数据点的间隔越大，分类的确信度也越大，为了使分类的确信度尽量高，需要让所选择的超平面能够最大化这个间隔值。而在这个间隔值上的数据点被称为是支持向量(support vector)的,这就是支持向量机的由来"
   ]
  },
  {
   "cell_type": "markdown",
   "metadata": {},
   "source": [
    "#### 4. What is the intuition behind SVM ?"
   ]
  },
  {
   "cell_type": "markdown",
   "metadata": {},
   "source": [
    "    SVM实际上是一种二类分类模型，一种在特征空间上的间隔最大的线性分类器，其学习策略是最大化间隔，最终转化为一个凸二次规划问题的求解\n",
    "    除了进行线性分类，支持向量机可以使用核函数将输入隐含映射成高维特征空间中有效地进行非线性分类。\n",
    "    假设给定一组数据点，它们分别属于两个不同的类，现在要找到一个线性分类器把这些数据分成两类。如果用x表示数据点，用y表示类别，线性分类器的学习目标是要在n维的数据空间中找到一个可以将数据划分为两类的超平面，其方程可以表示为: wTx + b = 0"
   ]
  },
  {
   "cell_type": "markdown",
   "metadata": {},
   "source": [
    "#### 5. Shortly describ what 'random' means in random forest ?"
   ]
  },
  {
   "cell_type": "markdown",
   "metadata": {},
   "source": [
    "随机森林是一个包含多棵决策树的分类器，并且其输出的类别是由个别树输出的类别的总数而定。\n",
    "随机森林的随机性体现在每颗树的训练样本是随机的，树中每个节点的分裂属性集合也是随机选择确定的。有了这2个随机的保证，随机森林就不会产生过拟合的现象了。\n"
   ]
  },
  {
   "cell_type": "markdown",
   "metadata": {},
   "source": [
    "#### 6. What cariterion does XGBoost use to find the best split point in a tree ?"
   ]
  },
  {
   "cell_type": "markdown",
   "metadata": {},
   "source": [
    "根据特征对样本数据进行排序，然后将特征从小到大进行切分，比较每次切分后的目标函数大小，选择下降最大的节点作为该特征的最优切分点。最后比较不同块结构最优切分点的目标函数下降值，选择下降最大的特征作为最优切分点。"
   ]
  },
  {
   "cell_type": "markdown",
   "metadata": {},
   "source": [
    "##### Problem description: In this part you are going to build a classifier to detect if a piece of news is published by the Xinhua news agency (新华社）."
   ]
  },
  {
   "cell_type": "markdown",
   "metadata": {},
   "source": [
    "### 3. Practial part"
   ]
  },
  {
   "cell_type": "markdown",
   "metadata": {},
   "source": [
    "#### Hints:"
   ]
  },
  {
   "cell_type": "markdown",
   "metadata": {},
   "source": [
    "###### 1. Firstly, you have to come up with a way to represent the news. (Vectorize the sentence, you can find different ways to do so online)  "
   ]
  },
  {
   "cell_type": "code",
   "execution_count": 1,
   "metadata": {},
   "outputs": [],
   "source": [
    "import numpy as np\n",
    "import pandas as pd\n",
    "import matplotlib.pyplot as plt\n",
    "import seaborn as sns\n",
    "import re\n",
    "import jieba\n",
    "import torch\n",
    "import torch.nn as nn\n",
    "import torch.utils.data as Data \n",
    "from torch.autograd import Variable\n",
    "from collections import Counter\n",
    "from sklearn.linear_model import LogisticRegression\n",
    "from sklearn.model_selection import train_test_split\n",
    "df = pd.read_csv(r\"xinhuashe.csv\",encoding = 'gb18030').fillna(\" \")"
   ]
  },
  {
   "cell_type": "code",
   "execution_count": 2,
   "metadata": {},
   "outputs": [],
   "source": [
    "def filter_func(sen):\n",
    "    sen = re.sub(\"[\\s+\\.\\!\\/_,$%^*(+\\\"\\'“”《》?“]+|[+——！，。？、~@#￥%……&*{}()（）：]+\", \"\", sen)  \n",
    "    return(sen)\n",
    "\n",
    "def vectorize_sequences(sequences, dimension=10000):\n",
    "    results = np.zeros((len(sequences), dimension))\n",
    "    for i, sequence in enumerate(sequences):\n",
    "        results[i, sequence] = 1.\n",
    "    return results\n",
    "\n",
    "def to_one_hot(labels, dimension=46):\n",
    "    results = np.zeros((len(labels), dimension))\n",
    "    for i, label in enumerate(labels):\n",
    "        results[i, label] = 1.\n",
    "    return results\n",
    "\n",
    "def word2index(word, diction):\n",
    "    if word in diction:\n",
    "        value = diction[word][0]\n",
    "    else:\n",
    "        value = -1\n",
    "    return(value)\n",
    "\n",
    "def index2word(index, diction):\n",
    "    for w,v in diction.items():\n",
    "        if v[0] == index:\n",
    "            return(w)\n",
    "    return(None)\n",
    "\n",
    "def sentence2vec(sen, diction):\n",
    "    vector = np.zeros(len(diction))\n",
    "    for w in sen:\n",
    "        vector[w] += 1\n",
    "    return(1.0 * vector / len(sen))\n",
    "\n",
    "def prepare_data(x_data, y_data, is_filter = True):\n",
    "    all_words = []\n",
    "    sentences = []\n",
    "    target = []\n",
    "    for __, row in x_data.iterrows():\n",
    "        line = row[\"author\"] + row[\"content\"] + row[\"feature\"] + row[\"title\"] + row[\"url\"]\n",
    "        if is_filter:\n",
    "            line = filter_func(line)\n",
    "        words = jieba.lcut(line)\n",
    "        if len(words) > 0:\n",
    "            all_words += words\n",
    "            sentences.append(words)\n",
    "\n",
    "    for twords in y_data:\n",
    "        if is_filter:\n",
    "            twords = filter_func(twords)\n",
    "        words = jieba.lcut(twords)\n",
    "        if len(words) > 0:\n",
    "            all_words += words\n",
    "            target.append(words)\n",
    "        else:\n",
    "            target.append(\" \")\n",
    "            \n",
    "    count = len(all_words)\n",
    "    diction = {\" \":[0, 1]}\n",
    "    cnt = Counter(all_words)\n",
    "    for word, freq in cnt.items():\n",
    "        diction[word] = [len(diction)+1, freq]\n",
    "    print('字典大小：{}'.format(len(diction)))\n",
    "    return sentences,target, diction"
   ]
  },
  {
   "cell_type": "code",
   "execution_count": 3,
   "metadata": {},
   "outputs": [
    {
     "name": "stderr",
     "output_type": "stream",
     "text": [
      "Building prefix dict from the default dictionary ...\n",
      "Loading model from cache /tmp/jieba.cache\n",
      "Loading model cost 0.833 seconds.\n",
      "Prefix dict has been built successfully.\n"
     ]
    },
    {
     "name": "stdout",
     "output_type": "stream",
     "text": [
      "字典大小：605435\n"
     ]
    }
   ],
   "source": [
    "y_data = df.source.values\n",
    "x_data = df.drop(['source','id'], axis = 1)\n",
    "sentences,target,diction  =  prepare_data(x_data, y_data)"
   ]
  },
  {
   "cell_type": "code",
   "execution_count": 4,
   "metadata": {},
   "outputs": [
    {
     "name": "stdout",
     "output_type": "stream",
     "text": [
      "sentences:  89611 \n",
      "target:  89611 \n",
      "diction:  605435\n",
      "[5, 54009]\n",
      "[1420, 3520]\n"
     ]
    }
   ],
   "source": [
    "print(\"sentences: \",len(sentences),\"\\ntarget: \", len(target), \"\\ndiction: \", len(diction))\n",
    "print(diction[\"6\"])\n",
    "print(diction[\"未\"])"
   ]
  },
  {
   "cell_type": "code",
   "execution_count": 5,
   "metadata": {},
   "outputs": [],
   "source": [
    "def sen2vec(sentences,diction):\n",
    "    new_sens = []\n",
    "    for line in sentences:\n",
    "        new_sen = []\n",
    "        for word in line:\n",
    "            new_sen.append(word2index(word,diction))\n",
    "        new_sens.append(new_sen)\n",
    "    return new_sens"
   ]
  },
  {
   "cell_type": "code",
   "execution_count": 6,
   "metadata": {},
   "outputs": [],
   "source": [
    "senvec = sen2vec(sentences, diction)\n",
    "targetvec = []\n",
    "for words in target:\n",
    "    if \"新华社\" in words:\n",
    "        targetvec.append(1.0)\n",
    "    else:\n",
    "        targetvec.append(0.0)\n",
    "        \n",
    "maxLen = max(len(i) for i in senvec)\n",
    "trainvec = list(map(lambda x : x + [0]*(maxLen - len(x)),senvec))"
   ]
  },
  {
   "cell_type": "code",
   "execution_count": 7,
   "metadata": {},
   "outputs": [],
   "source": [
    "trainvec = torch.tensor(trainvec)\n",
    "targetvec = torch.tensor(targetvec)\n",
    "x_train, x_test, y_train, y_test = train_test_split(trainvec,targetvec,test_size=0.2, random_state=0)\n",
    "\n",
    "x_train = x_train\n",
    "y_train = y_train\n",
    "x_test = x_test\n",
    "y_test = y_test"
   ]
  },
  {
   "cell_type": "code",
   "execution_count": 8,
   "metadata": {},
   "outputs": [
    {
     "name": "stdout",
     "output_type": "stream",
     "text": [
      "torch.Size([89611, 7949])\n",
      "torch.Size([89611])\n"
     ]
    }
   ],
   "source": [
    "print(trainvec.shape)\n",
    "print(targetvec.shape)"
   ]
  },
  {
   "cell_type": "code",
   "execution_count": 9,
   "metadata": {},
   "outputs": [],
   "source": [
    "torch.manual_seed(1)\n",
    "\n",
    "batch_size = 64\n",
    "learning_rate = 0.0005\n",
    "num_epoches = 10\n",
    "\n",
    "torch_dataset = Data.TensorDataset(x_train, y_train) \n",
    "loader = Data.DataLoader(\n",
    "    dataset=torch_dataset,\n",
    "    batch_size=batch_size,\n",
    "    shuffle=True,\n",
    "    num_workers=2,\n",
    ")"
   ]
  },
  {
   "cell_type": "code",
   "execution_count": 10,
   "metadata": {},
   "outputs": [
    {
     "name": "stdout",
     "output_type": "stream",
     "text": [
      "len of x_train: 71688  Type of x train:  <class 'torch.Tensor'>\n",
      "len of x_test: 17923\n",
      "len of y_train: 71688\n",
      "len of y_test: 17923\n",
      "maxlen of x_train 7949\n",
      "7949\n",
      "<class 'torch.Tensor'>\n"
     ]
    }
   ],
   "source": [
    "print(\"len of x_train:\",len(x_train),\" Type of x train: \",type(x_train))\n",
    "print(\"len of x_test:\",len(x_test))\n",
    "print(\"len of y_train:\",len(y_train))\n",
    "print(\"len of y_test:\",len(y_test))\n",
    "print(\"maxlen of x_train\", maxLen)\n",
    "print(len(trainvec[2]))\n",
    "print(type(x_test))"
   ]
  },
  {
   "cell_type": "markdown",
   "metadata": {},
   "source": [
    "###### 2. Secondly,  pick a machine learning algorithm that you think is suitable for this task"
   ]
  },
  {
   "cell_type": "code",
   "execution_count": 11,
   "metadata": {},
   "outputs": [],
   "source": [
    "class BatchFCN(nn.Module):\n",
    "    def __init__(self, in_dim, n_hidden_1, n_hidden_2, out_dim):\n",
    "        super(BatchFCN,self).__init__()\n",
    "        self.lr1 = nn.Sequential(nn.Linear(in_dim, n_hidden_1), nn.BatchNorm1d(n_hidden_1), nn.ReLU(True))\n",
    "        self.lr2 = nn.Sequential(nn.Linear(n_hidden_1, n_hidden_2), nn.BatchNorm1d(n_hidden_2), nn.ReLU(True))\n",
    "        self.lr3 = nn.Sequential(nn.Linear(n_hidden_2, out_dim))\n",
    "        self.acf = nn.Sigmoid()\n",
    "        \n",
    "    def forward(self, x):\n",
    "        x = self.lr1(x)\n",
    "        x = self.lr2(x)\n",
    "        x = self.lr3(x)\n",
    "        x = self.acf(x)\n",
    "        return x\n",
    "\n",
    "batchModel = BatchFCN(7949,400,20,1)\n",
    "criterion = nn.BCELoss()\n",
    "#criterion = nn.CrossEntropyLoss()\n",
    "optimizer = torch.optim.SGD(batchModel.parameters(), lr=learning_rate, momentum=0.9)"
   ]
  },
  {
   "cell_type": "code",
   "execution_count": 12,
   "metadata": {
    "scrolled": true
   },
   "outputs": [
    {
     "name": "stderr",
     "output_type": "stream",
     "text": [
      "/home/anaconda3/envs/pth/lib/python3.7/site-packages/torch/nn/modules/loss.py:498: UserWarning: Using a target size (torch.Size([64])) that is different to the input size (torch.Size([64, 1])) is deprecated. Please ensure they have the same size.\n",
      "  return F.binary_cross_entropy(input, target, weight=self.weight, reduction=self.reduction)\n"
     ]
    },
    {
     "name": "stdout",
     "output_type": "stream",
     "text": [
      "epoch: 0,step:0 loss: 0.5643\n",
      "epoch: 0,step:500 loss: 0.1511\n",
      "epoch: 0,step:1000 loss: 0.1929\n"
     ]
    },
    {
     "name": "stderr",
     "output_type": "stream",
     "text": [
      "/home/anaconda3/envs/pth/lib/python3.7/site-packages/torch/nn/modules/loss.py:498: UserWarning: Using a target size (torch.Size([8])) that is different to the input size (torch.Size([8, 1])) is deprecated. Please ensure they have the same size.\n",
      "  return F.binary_cross_entropy(input, target, weight=self.weight, reduction=self.reduction)\n"
     ]
    },
    {
     "name": "stdout",
     "output_type": "stream",
     "text": [
      "epoch: 1,step:0 loss: 0.1115\n",
      "epoch: 1,step:500 loss: 0.05854\n",
      "epoch: 1,step:1000 loss: 0.02902\n",
      "epoch: 2,step:0 loss: 0.02545\n",
      "epoch: 2,step:500 loss: 0.05332\n",
      "epoch: 2,step:1000 loss: 0.02644\n",
      "epoch: 3,step:0 loss: 0.0171\n",
      "epoch: 3,step:500 loss: 0.03385\n",
      "epoch: 3,step:1000 loss: 0.06215\n",
      "epoch: 4,step:0 loss: 0.01672\n",
      "epoch: 4,step:500 loss: 0.02586\n",
      "epoch: 4,step:1000 loss: 0.03182\n",
      "epoch: 5,step:0 loss: 0.03198\n",
      "epoch: 5,step:500 loss: 0.009436\n",
      "epoch: 5,step:1000 loss: 0.01387\n",
      "epoch: 6,step:0 loss: 0.08995\n",
      "epoch: 6,step:500 loss: 0.01368\n",
      "epoch: 6,step:1000 loss: 0.006683\n",
      "epoch: 7,step:0 loss: 0.009645\n",
      "epoch: 7,step:500 loss: 0.006766\n",
      "epoch: 7,step:1000 loss: 0.009588\n",
      "epoch: 8,step:0 loss: 0.03084\n",
      "epoch: 8,step:500 loss: 0.00717\n",
      "epoch: 8,step:1000 loss: 0.07444\n",
      "epoch: 9,step:0 loss: 0.006117\n",
      "epoch: 9,step:500 loss: 0.004176\n",
      "epoch: 9,step:1000 loss: 0.006453\n"
     ]
    }
   ],
   "source": [
    "epoch = 0\n",
    "Totalloss = []\n",
    "for epoch in range(num_epoches):\n",
    "    for step, (batch_x, batch_y) in enumerate(loader):\n",
    "        out = batchModel(batch_x.float())\n",
    "        #print(out[1],batch_y[1])\n",
    "        loss = criterion(out, batch_y)\n",
    "        print_loss = loss.data.item()\n",
    "        optimizer.zero_grad()\n",
    "        loss.backward()\n",
    "        optimizer.step()\n",
    "        if step%100 == 0:\n",
    "            Totalloss.append(print_loss)\n",
    "        if step%500 == 0:\n",
    "            print('epoch: {},step:{} loss: {:.4}'.format(epoch,step,print_loss))"
   ]
  },
  {
   "cell_type": "code",
   "execution_count": 13,
   "metadata": {},
   "outputs": [
    {
     "data": {
      "text/plain": [
       "[<matplotlib.lines.Line2D at 0x7f7a6ec2d210>]"
      ]
     },
     "execution_count": 13,
     "metadata": {},
     "output_type": "execute_result"
    },
    {
     "data": {
      "image/png": "[encoded data removed]",
      "text/plain": [
       "<Figure size 432x288 with 1 Axes>"
      ]
     },
     "metadata": {
      "needs_background": "light"
     },
     "output_type": "display_data"
    }
   ],
   "source": [
    "import matplotlib.pyplot as plt\n",
    "plt.plot(range(len(Totalloss)), Totalloss)"
   ]
  },
  {
   "cell_type": "code",
   "execution_count": 14,
   "metadata": {
    "scrolled": true
   },
   "outputs": [
    {
     "name": "stderr",
     "output_type": "stream",
     "text": [
      "/home/anaconda3/envs/pth/lib/python3.7/site-packages/torch/nn/modules/loss.py:498: UserWarning: Using a target size (torch.Size([64])) that is different to the input size (torch.Size([64, 1])) is deprecated. Please ensure they have the same size.\n",
      "  return F.binary_cross_entropy(input, target, weight=self.weight, reduction=self.reduction)\n"
     ]
    },
    {
     "name": "stdout",
     "output_type": "stream",
     "text": [
      "Test Loss: 0.028205\n"
     ]
    },
    {
     "name": "stderr",
     "output_type": "stream",
     "text": [
      "/home/anaconda3/envs/pth/lib/python3.7/site-packages/torch/nn/modules/loss.py:498: UserWarning: Using a target size (torch.Size([3])) that is different to the input size (torch.Size([3, 1])) is deprecated. Please ensure they have the same size.\n",
      "  return F.binary_cross_entropy(input, target, weight=self.weight, reduction=self.reduction)\n"
     ]
    }
   ],
   "source": [
    "test_data = Data.TensorDataset(x_test, y_test) \n",
    "test_loader = Data.DataLoader(\n",
    "    dataset = test_data,\n",
    "    batch_size = batch_size,\n",
    "    shuffle = True,\n",
    "    num_workers = 2,\n",
    ")\n",
    "# 模型评估\n",
    "batchModel.eval()\n",
    "eval_loss = 0\n",
    "for test_x, test_y in test_loader: \n",
    "    out = batchModel(test_x.float())\n",
    "    loss = criterion(out, test_y)\n",
    "    eval_loss += loss.data.item()*test_y.size(0)\n",
    "\n",
    "print('Test Loss: {:.6f}'.format(eval_loss / (len(test_data)) ))"
   ]
  },
  {
   "cell_type": "markdown",
   "metadata": {},
   "source": [
    "### Congratulations! You have completed all assignments in this week. The question below is optional. If you still have time, why don't try it out."
   ]
  },
  {
   "cell_type": "markdown",
   "metadata": {},
   "source": [
    "## Option:"
   ]
  },
  {
   "cell_type": "markdown",
   "metadata": {},
   "source": [
    "#### Try differnt machine learning algorithms with different combinations of parameters in the practical part, and compare their performances (Better use some visualization techiniques)."
   ]
  }
 ],
 "metadata": {
  "kernelspec": {
   "display_name": "Python 3",
   "language": "python",
   "name": "python3"
  },
  "language_info": {
   "codemirror_mode": {
    "name": "ipython",
    "version": 3
   },
   "file_extension": ".py",
   "mimetype": "text/x-python",
   "name": "python",
   "nbconvert_exporter": "python",
   "pygments_lexer": "ipython3",
   "version": "3.6.7"
  }
 },
 "nbformat": 4,
 "nbformat_minor": 2
}
