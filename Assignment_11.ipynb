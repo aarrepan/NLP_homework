{
 "cells": [
  {
   "cell_type": "code",
   "execution_count": 3,
   "metadata": {},
   "outputs": [],
   "source": [
    "from collections import defaultdict\n",
    "\n",
    "original_price = [1, 5, 8, 9, 10, 17, 17, 20, 24, 30, 35]\n",
    "price = defaultdict(int)\n",
    "\n",
    "for i,p in enumerate(original_price):\n",
    "    price[i+1] = p"
   ]
  },
  {
   "cell_type": "markdown",
   "metadata": {},
   "source": [
    "## Get the max splitting by enumerate"
   ]
  },
  {
   "cell_type": "code",
   "execution_count": 4,
   "metadata": {},
   "outputs": [],
   "source": [
    "def r(n):\n",
    "    return max( [price[n]] + [r(i) + r(n-i) for i in range(1,n)]    )"
   ]
  },
  {
   "cell_type": "code",
   "execution_count": 5,
   "metadata": {},
   "outputs": [
    {
     "name": "stdout",
     "output_type": "stream",
     "text": [
      "price[11]:  35 \t r[11]:  35\n",
      "price[15]:  0 \t r[15]:  45\n"
     ]
    }
   ],
   "source": [
    "print(\"price[11]: \", price[11], \"\\t r[11]: \", r(11) )\n",
    "print(\"price[15]: \", price[15], \"\\t r[15]: \", r(15) )"
   ]
  },
  {
   "cell_type": "code",
   "execution_count": 6,
   "metadata": {},
   "outputs": [],
   "source": [
    "import time\n",
    "def fibonacci(n):\n",
    "    if n  <= 2:\n",
    "        return 1\n",
    "    else:\n",
    "        return fibonacci(n-1) + fibonacci(n-2)\n",
    "\n",
    "def funcTimer(func,*args):\n",
    "    start = time.time()\n",
    "    print(func(*args))\n",
    "    print(\"Function running time is: \", time.time()-start)"
   ]
  },
  {
   "cell_type": "code",
   "execution_count": 7,
   "metadata": {},
   "outputs": [
    {
     "name": "stdout",
     "output_type": "stream",
     "text": [
      "5702887\n",
      "Function running time is:  1.4337427616119385\n"
     ]
    }
   ],
   "source": [
    "funcTimer(fibonacci, 34)"
   ]
  },
  {
   "cell_type": "code",
   "execution_count": 8,
   "metadata": {},
   "outputs": [],
   "source": [
    "mem = defaultdict()\n",
    "def fibonacci_op(n):\n",
    "    if n in mem:\n",
    "        return mem[n]\n",
    "    else: \n",
    "        if n <= 2:\n",
    "            mem[n] = 1\n",
    "            return n\n",
    "        else:\n",
    "            result = fibonacci_op(n-1) + fibonacci_op(n-2)\n",
    "            mem[n] = result\n",
    "            return result"
   ]
  },
  {
   "cell_type": "code",
   "execution_count": 9,
   "metadata": {},
   "outputs": [
    {
     "name": "stdout",
     "output_type": "stream",
     "text": [
      "14662949395604\n",
      "Function running time is:  0.00020241737365722656\n"
     ]
    }
   ],
   "source": [
    "funcTimer(fibonacci_op, 64)"
   ]
  },
  {
   "cell_type": "markdown",
   "metadata": {},
   "source": [
    "# Analysis: How to optimize"
   ]
  },
  {
   "cell_type": "markdown",
   "metadata": {},
   "source": [
    "## A Simpler Problem"
   ]
  },
  {
   "cell_type": "markdown",
   "metadata": {},
   "source": [
    "### Decorator"
   ]
  },
  {
   "cell_type": "code",
   "execution_count": 10,
   "metadata": {},
   "outputs": [],
   "source": [
    "from functools import wraps\n",
    "def get_time(func):\n",
    "    def wrapper(*args):\n",
    "        start = time.time()\n",
    "        func(*args)\n",
    "        end = time.time()\n",
    "        print('used time : {}'.format(end-start))\n",
    "    return wrapper\n",
    "\n",
    "def f1(func):\n",
    "    def wrapper(*args,**kwargs):\n",
    "        print('Started Decorator')\n",
    "        func(*args,**kwargs)\n",
    "        print('Ended Decorator')\n",
    "    return wrapper\n",
    "\n",
    "def f():\n",
    "    print('HELLO')"
   ]
  },
  {
   "cell_type": "code",
   "execution_count": 11,
   "metadata": {},
   "outputs": [
    {
     "name": "stdout",
     "output_type": "stream",
     "text": [
      "wrapper\n"
     ]
    }
   ],
   "source": [
    "f = f1(f)\n",
    "print(f.__name__)"
   ]
  },
  {
   "cell_type": "code",
   "execution_count": 12,
   "metadata": {},
   "outputs": [
    {
     "name": "stdout",
     "output_type": "stream",
     "text": [
      "Started Decorator\n",
      "hello  from Function g()\n",
      "Ended Decorator\n"
     ]
    }
   ],
   "source": [
    "@f1\n",
    "def g(a):\n",
    "    print(a,\" from Function g()\")\n",
    "\n",
    "g('hello')"
   ]
  },
  {
   "cell_type": "code",
   "execution_count": 13,
   "metadata": {},
   "outputs": [],
   "source": [
    "def k(*arg,**kwargs):\n",
    "    print(kwargs)"
   ]
  },
  {
   "cell_type": "code",
   "execution_count": 14,
   "metadata": {},
   "outputs": [
    {
     "name": "stdout",
     "output_type": "stream",
     "text": [
      "{'b': 5}\n"
     ]
    }
   ],
   "source": [
    "k(6, b=5)"
   ]
  },
  {
   "cell_type": "markdown",
   "metadata": {},
   "source": [
    "# We use this method to solve Cut Rod probelm¶"
   ]
  },
  {
   "cell_type": "code",
   "execution_count": 15,
   "metadata": {},
   "outputs": [],
   "source": [
    "def memo(f):\n",
    "    memo.already_computed = {}\n",
    "    @wraps(f)\n",
    "    def _wrap(arg):\n",
    "        if arg in memo.already_computed:\n",
    "            result = memo.already_computed[arg]\n",
    "        else:\n",
    "            result = f(arg)\n",
    "            memo.already_computed[arg] = result\n",
    "        return result\n",
    "    return _wrap\n",
    "\n",
    "solution = {}"
   ]
  },
  {
   "cell_type": "code",
   "execution_count": 16,
   "metadata": {},
   "outputs": [],
   "source": [
    "@memo\n",
    "def r(n):\n",
    "    \"\"\"\n",
    "    Args: n is the iron length\n",
    "    Return: the max revenue \n",
    "    \"\"\"\n",
    "    max_price, max_split = max(\n",
    "        [(price[n], 0)] + [(r(i) + r(n-i), i) for i in range(1, n)], key=lambda x: x[0]\n",
    "    )\n",
    "\n",
    "    solution[n] = (n - max_split, max_split)\n",
    "    \n",
    "    return max_price"
   ]
  },
  {
   "cell_type": "code",
   "execution_count": 17,
   "metadata": {},
   "outputs": [
    {
     "name": "stdout",
     "output_type": "stream",
     "text": [
      "60\n",
      "defaultdict(<class 'int'>, {1: 1, 2: 5, 3: 8, 4: 9, 5: 10, 6: 17, 7: 17, 8: 20, 9: 24, 10: 30, 11: 35, 15: 0, 14: 0, 13: 0, 12: 0, 20: 0, 19: 0, 18: 0, 17: 0, 16: 0})\n",
      "{1: (1, 0), 2: (2, 0), 3: (3, 0), 4: (2, 2), 5: (3, 2), 6: (6, 0), 7: (6, 1), 8: (6, 2), 9: (6, 3), 10: (10, 0), 11: (11, 0), 12: (11, 1), 13: (11, 2), 14: (11, 3), 15: (13, 2), 16: (14, 2), 17: (11, 6), 18: (17, 1), 19: (17, 2), 20: (17, 3)}\n"
     ]
    }
   ],
   "source": [
    "print(r(20))\n",
    "print(price)\n",
    "print(solution)"
   ]
  },
  {
   "cell_type": "markdown",
   "metadata": {},
   "source": [
    "# How do we parse solution?¶"
   ]
  },
  {
   "cell_type": "code",
   "execution_count": 18,
   "metadata": {},
   "outputs": [],
   "source": [
    "def parse_solution(n):\n",
    "    left_split, right_split = solution[n]\n",
    "    if right_split == 0: return [left_split]\n",
    "    return parse_solution(left_split) + parse_solution(right_split)"
   ]
  },
  {
   "cell_type": "code",
   "execution_count": 19,
   "metadata": {},
   "outputs": [
    {
     "name": "stdout",
     "output_type": "stream",
     "text": [
      "75\n",
      "[11, 6, 3]\n"
     ]
    }
   ],
   "source": [
    "print(r(24))\n",
    "print(parse_solution(20))"
   ]
  },
  {
   "cell_type": "markdown",
   "metadata": {},
   "source": [
    "# Edit Distance"
   ]
  },
  {
   "cell_type": "code",
   "execution_count": 294,
   "metadata": {},
   "outputs": [],
   "source": [
    "from functools import lru_cache\n",
    "solution = {}"
   ]
  },
  {
   "cell_type": "code",
   "execution_count": 295,
   "metadata": {},
   "outputs": [],
   "source": [
    "@lru_cache(maxsize=2**10)\n",
    "def edit_distance(string1, string2):\n",
    "    if len(string1) == 0: return len(string2)\n",
    "    if len(string2) == 0: return len(string1)\n",
    "    \n",
    "    tail_s1 = string1[-1]\n",
    "    tail_s2 = string2[-1]\n",
    "    \n",
    "    candidates = [\n",
    "        (edit_distance(string1[:-1], string2) + 1, 'DEL {}'.format(tail_s1)),  # string 1 delete tail\n",
    "        (edit_distance(string1, string2[:-1]) + 1, 'ADD {}'.format(tail_s2)),  # string 1 add tail of string2\n",
    "    ]\n",
    "    \n",
    "    if tail_s1 == tail_s2:\n",
    "        both_forward = (edit_distance(string1[:-1], string2[:-1]) + 0, '')\n",
    "    else:\n",
    "        both_forward = (edit_distance(string1[:-1], string2[:-1]) + 1, 'SUB {} => {}'.format(tail_s1, tail_s2))\n",
    "\n",
    "    candidates.append(both_forward)\n",
    "    \n",
    "    min_distance, operation = min(candidates, key=lambda x: x[0])\n",
    "    \n",
    "    solution[(string1, string2)] = operation \n",
    "    \n",
    "    return min_distance"
   ]
  },
  {
   "cell_type": "code",
   "execution_count": 296,
   "metadata": {},
   "outputs": [
    {
     "data": {
      "text/plain": [
       "3"
      ]
     },
     "execution_count": 296,
     "metadata": {},
     "output_type": "execute_result"
    }
   ],
   "source": [
    "edit_distance('ABCDECG','ABCCEF')"
   ]
  },
  {
   "cell_type": "code",
   "execution_count": 297,
   "metadata": {},
   "outputs": [
    {
     "data": {
      "text/plain": [
       "{('A', 'A'): '',\n",
       " ('A', 'AB'): 'ADD B',\n",
       " ('A', 'ABC'): 'ADD C',\n",
       " ('A', 'ABCC'): 'ADD C',\n",
       " ('A', 'ABCCE'): 'ADD E',\n",
       " ('A', 'ABCCEF'): 'ADD F',\n",
       " ('AB', 'A'): 'DEL B',\n",
       " ('AB', 'AB'): '',\n",
       " ('AB', 'ABC'): 'ADD C',\n",
       " ('AB', 'ABCC'): 'ADD C',\n",
       " ('AB', 'ABCCE'): 'ADD E',\n",
       " ('AB', 'ABCCEF'): 'ADD F',\n",
       " ('ABC', 'A'): 'DEL C',\n",
       " ('ABC', 'AB'): 'DEL C',\n",
       " ('ABC', 'ABC'): '',\n",
       " ('ABC', 'ABCC'): 'ADD C',\n",
       " ('ABC', 'ABCCE'): 'ADD E',\n",
       " ('ABC', 'ABCCEF'): 'ADD F',\n",
       " ('ABCD', 'A'): 'DEL D',\n",
       " ('ABCD', 'AB'): 'DEL D',\n",
       " ('ABCD', 'ABC'): 'DEL D',\n",
       " ('ABCD', 'ABCC'): 'SUB D => C',\n",
       " ('ABCD', 'ABCCE'): 'ADD E',\n",
       " ('ABCD', 'ABCCEF'): 'ADD F',\n",
       " ('ABCDE', 'A'): 'DEL E',\n",
       " ('ABCDE', 'AB'): 'DEL E',\n",
       " ('ABCDE', 'ABC'): 'DEL E',\n",
       " ('ABCDE', 'ABCC'): 'DEL E',\n",
       " ('ABCDE', 'ABCCE'): '',\n",
       " ('ABCDE', 'ABCCEF'): 'ADD F',\n",
       " ('ABCDEC', 'A'): 'DEL C',\n",
       " ('ABCDEC', 'AB'): 'DEL C',\n",
       " ('ABCDEC', 'ABC'): 'DEL C',\n",
       " ('ABCDEC', 'ABCC'): '',\n",
       " ('ABCDEC', 'ABCCE'): 'DEL C',\n",
       " ('ABCDEC', 'ABCCEF'): 'SUB C => F',\n",
       " ('ABCDECG', 'A'): 'DEL G',\n",
       " ('ABCDECG', 'AB'): 'DEL G',\n",
       " ('ABCDECG', 'ABC'): 'DEL G',\n",
       " ('ABCDECG', 'ABCC'): 'DEL G',\n",
       " ('ABCDECG', 'ABCCE'): 'DEL G',\n",
       " ('ABCDECG', 'ABCCEF'): 'DEL G'}"
      ]
     },
     "execution_count": 297,
     "metadata": {},
     "output_type": "execute_result"
    }
   ],
   "source": [
    "solution"
   ]
  },
  {
   "cell_type": "markdown",
   "metadata": {},
   "source": [
    "## Todo: Parse Solution is our homework"
   ]
  },
  {
   "cell_type": "markdown",
   "metadata": {},
   "source": [
    "# Problem Case 3: Pinyin Auto Correction Problem"
   ]
  },
  {
   "cell_type": "code",
   "execution_count": 24,
   "metadata": {},
   "outputs": [],
   "source": [
    "import pinyin\n",
    "chinese_dataset = 'article_9k.txt'\n",
    "CHINESE_CHARATERS = open(chinese_dataset).read()\n",
    "\n",
    "def chinese_to_pinyin(character):\n",
    "    return pinyin.get(character, format='strip', delimiter=' ')\n",
    "\n",
    "CHINESE_CHARATERS_COPYS = chinese_to_pinyin(CHINESE_CHARATERS)"
   ]
  },
  {
   "cell_type": "code",
   "execution_count": 25,
   "metadata": {},
   "outputs": [
    {
     "name": "stdout",
     "output_type": "stream",
     "text": [
      "此外自本周6月12日起除小米手机6等15款机型外其余机型已暂停更新发布含开发版体\n",
      "ni hao ， zhong guo\n",
      "129433034\n"
     ]
    }
   ],
   "source": [
    "print(CHINESE_CHARATERS[:40])\n",
    "print(pinyin.get('你好，中国',format='strip',delimiter=' '))\n",
    "print(len(CHINESE_CHARATERS_COPYS))"
   ]
  },
  {
   "cell_type": "code",
   "execution_count": 26,
   "metadata": {},
   "outputs": [],
   "source": [
    "import re\n",
    "def tokens(text):\n",
    "    \"List all the pinyin characters\"\n",
    "    return re.findall('[a-z]+',text.lower())"
   ]
  },
  {
   "cell_type": "code",
   "execution_count": 27,
   "metadata": {},
   "outputs": [
    {
     "data": {
      "text/plain": [
       "'ci wai zi ben zhou 6 yue 1 2 ri qi chu xiao mi shou ji 6 deng 1 5 kuan ji xing wai qi yu ji xing yi '"
      ]
     },
     "execution_count": 27,
     "metadata": {},
     "output_type": "execute_result"
    }
   ],
   "source": [
    "CHINESE_CHARATERS_COPYS[:100]"
   ]
  },
  {
   "cell_type": "code",
   "execution_count": 28,
   "metadata": {},
   "outputs": [
    {
     "data": {
      "text/plain": [
       "['ci',\n",
       " 'wai',\n",
       " 'zi',\n",
       " 'ben',\n",
       " 'zhou',\n",
       " 'yue',\n",
       " 'ri',\n",
       " 'qi',\n",
       " 'chu',\n",
       " 'xiao',\n",
       " 'mi',\n",
       " 'shou',\n",
       " 'ji',\n",
       " 'deng',\n",
       " 'kuan',\n",
       " 'ji',\n",
       " 'xing',\n",
       " 'wai',\n",
       " 'qi',\n",
       " 'yu',\n",
       " 'ji',\n",
       " 'xing',\n",
       " 'yi']"
      ]
     },
     "execution_count": 28,
     "metadata": {},
     "output_type": "execute_result"
    }
   ],
   "source": [
    "tokens(CHINESE_CHARATERS_COPYS[:100])"
   ]
  },
  {
   "cell_type": "code",
   "execution_count": 29,
   "metadata": {},
   "outputs": [],
   "source": [
    "from collections import Counter, defaultdict\n",
    "PINYIN_COUNT = Counter(tokens(CHINESE_CHARATERS_COPYS))"
   ]
  },
  {
   "cell_type": "code",
   "execution_count": 30,
   "metadata": {},
   "outputs": [],
   "source": [
    "def correct(word):\n",
    "    'Find the most possible pinyin based on edit distance'\n",
    "    # Prefer edit distance 0, then 1, then 2; otherwist default to word itself\n",
    "    candidates = (known(edits0(word)) or\n",
    "                  known(edits1(word)) or\n",
    "                  known(edits2(word)) or\n",
    "                  [word])\n",
    "    return max(candidates,key=PINYIN_COUNT.get)"
   ]
  },
  {
   "cell_type": "code",
   "execution_count": 31,
   "metadata": {},
   "outputs": [],
   "source": [
    "def known(words):\n",
    "    'Return the pinyin in our data'\n",
    "    return {w for w in words if w in PINYIN_COUNT}\n",
    "\n",
    "def edits0(word):\n",
    "    'Return all strings that are zero edits away from word (i.e., just word itself).'\n",
    "    return {word}\n",
    "\n",
    "def edits2(word):\n",
    "    'Return all strings that are two edits away from this pinyin.'\n",
    "    return {e2 for e1 in edits1(word) for e2 in edits1(e1)}"
   ]
  },
  {
   "cell_type": "code",
   "execution_count": 32,
   "metadata": {},
   "outputs": [],
   "source": [
    "alphabet = 'abcdefghijklmnopqrstuvwxyz'\n",
    "\n",
    "def splits(word):\n",
    "    'Return a list of all possible (first, rest) pairs that comprise pinyin.'\n",
    "    return [(word[:i], word[i:])\n",
    "           for i in range(len(word)+1)]\n",
    "\n",
    "def edits1(word):\n",
    "    'Return all strings that are one edit away from this pinyin.'\n",
    "    pairs = splits(word)\n",
    "    deletes = [a+b[1:] for (a,b) in pairs if b]\n",
    "    transposes = [a+b[1]+b[0]+b[2:] for (a,b) in pairs if len(b) > 1]\n",
    "    replaces = [a+c+b[1:] for (a,b) in pairs for c in alphabet if b]\n",
    "    inserts = [a+c+b for (a,b) in pairs for c in alphabet]\n",
    "    return set(deletes + transposes + replaces + inserts)"
   ]
  },
  {
   "cell_type": "code",
   "execution_count": 33,
   "metadata": {},
   "outputs": [
    {
     "data": {
      "text/plain": [
       "[('', 'pinyin'),\n",
       " ('p', 'inyin'),\n",
       " ('pi', 'nyin'),\n",
       " ('pin', 'yin'),\n",
       " ('piny', 'in'),\n",
       " ('pinyi', 'n'),\n",
       " ('pinyin', '')]"
      ]
     },
     "execution_count": 33,
     "metadata": {},
     "output_type": "execute_result"
    }
   ],
   "source": [
    "splits('pinyin')"
   ]
  },
  {
   "cell_type": "code",
   "execution_count": 34,
   "metadata": {},
   "outputs": [
    {
     "name": "stdout",
     "output_type": "stream",
     "text": [
      "{'pinyin'}\n"
     ]
    }
   ],
   "source": [
    "print(edits0('pinyin'))"
   ]
  },
  {
   "cell_type": "code",
   "execution_count": 279,
   "metadata": {},
   "outputs": [
    {
     "name": "stdout",
     "output_type": "stream",
     "text": [
      "{'pivnyin', 'gpinyin', 'pinyizn', 'pinhyin', 'pinoyin', 'pinyis', 'piwnyin', 'pinoin', 'pnyin', 'pignyin', 'pindyin', 'pinyivn', 'pinyino', 'pinlyin', 'pinyihn', 'pilyin', 'pinyii', 'bpinyin', 'pinynn', 'pinyinq', 'pinyyin', 'pinykin', 'pinuin', 'pinyins', 'xinyin', 'pitnyin', 'punyin', 'pcnyin', 'piqyin', 'pirnyin', 'pinyinn', 'plnyin', 'pinyinh', 'pibnyin', 'psinyin', 'pindin', 'pinlin', 'sinyin', 'pinyoin', 'pinyhin', 'pinyjin', 'ppinyin', 'pjnyin', 'ptinyin', 'pinyain', 'pinzyin', 'pinyion', 'pinjin', 'pinjyin', 'pinwin', 'pinyil', 'penyin', 'pinyuin', 'puinyin', 'pzinyin', 'pinyie', 'pinqin', 'pinvyin', 'piryin', 'pinyqin', 'pinyid', 'pinyinb', 'wpinyin', 'pinbin', 'oinyin', 'apinyin', 'pfinyin', 'lpinyin', 'hpinyin', 'phinyin', 'pniyin', 'pinyine', 'pinyinl', 'pinain', 'pinyina', 'pinkyin', 'pinydn', 'ninyin', 'spinyin', 'pinyvn', 'pjinyin', 'ypinyin', 'ipnyin', 'pinyinj', 'pigyin', 'pinhin', 'piynin', 'ppnyin', 'pkinyin', 'pinyinw', 'pinysn', 'opinyin', 'pinyi', 'pinypn', 'pyinyin', 'pincin', 'pioyin', 'pifnyin', 'pinyitn', 'painyin', 'cpinyin', 'pcinyin', 'pinyiq', 'pinyip', 'pvnyin', 'pinyln', 'piniyn', 'piknyin', 'ptnyin', 'pijyin', 'pinyiw', 'pinsyin', 'pienyin', 'pinyijn', 'piyyin', 'pwinyin', 'pinyn', 'pinpyin', 'pisyin', 'piniin', 'inyin', 'pinygn', 'pinydin', 'panyin', 'jinyin', 'pinyio', 'pknyin', 'piiyin', 'pinyiin', 'tinyin', 'pisnyin', 'pinyinc', 'pixyin', 'pipnyin', 'pinypin', 'pinyik', 'pingin', 'mpinyin', 'pznyin', 'epinyin', 'qpinyin', 'pinywn', 'pinyicn', 'pinbyin', 'pinnin', 'piuyin', 'pinkin', 'pinyit', 'pimnyin', 'pidyin', 'pinyfin', 'minyin', 'pdnyin', 'pidnyin', 'uinyin', 'piqnyin', 'pinywin', 'pimyin', 'pninyin', 'pinyind', 'pinybin', 'ponyin', 'pinrin', 'pinfin', 'pmnyin', 'pinyixn', 'plinyin', 'finyin', 'iinyin', 'yinyin', 'pinyih', 'pinyjn', 'pinqyin', 'pminyin', 'pqinyin', 'zinyin', 'pnnyin', 'pinyini', 'rinyin', 'pinyib', 'pinwyin', 'pinpin', 'pinyrin', 'pinying', 'pinnyin', 'pinymin', 'qinyin', 'piniyin', 'pbnyin', 'pinyim', 'pinymn', 'pinzin', 'piyin', 'peinyin', 'pinyix', 'pinyein', 'pinyipn', 'pityin', 'pihnyin', 'pintyin', 'pintin', 'pinyibn', 'pixnyin', 'pinyiwn', 'pinyen', 'pinyian', 'vpinyin', 'pinyinz', 'cinyin', 'pinyink', 'pibyin', 'piinyin', 'pionyin', 'pinyan', 'pinmyin', 'pinytin', 'pvinyin', 'pinayin', 'pinyinp', 'psnyin', 'pinyia', 'pinyin', 'pinyiz', 'picnyin', 'pinyiu', 'pinyimn', 'pinxyin', 'pinyirn', 'pwnyin', 'pinyon', 'pikyin', 'phnyin', 'pinyiqn', 'pingyin', 'pinyinv', 'ipinyin', 'vinyin', 'pinyfn', 'pinyiyn', 'pdinyin', 'pipyin', 'pinyvin', 'pinyzn', 'picyin', 'pinysin', 'prnyin', 'zpinyin', 'pinyisn', 'pifyin', 'pinyinf', 'pinyinx', 'pinyint', 'pinyidn', 'pinycn', 'piwyin', 'pihyin', 'pinryin', 'pijnyin', 'pinyiv', 'pinybn', 'pxnyin', 'poinyin', 'pinyhn', 'pinfyin', 'pinyikn', 'pinyxn', 'tpinyin', 'pilnyin', 'pinyiun', 'pinyinu', 'kinyin', 'dinyin', 'pizyin', 'pinmin', 'pieyin', 'winyin', 'pinyni', 'ainyin', 'piunyin', 'pinynin', 'pinyun', 'xpinyin', 'prinyin', 'pqnyin', 'pynyin', 'pbinyin', 'piayin', 'pinyig', 'pineyin', 'dpinyin', 'binyin', 'pinein', 'pinxin', 'pinyiy', 'upinyin', 'pxinyin', 'pinuyin', 'jpinyin', 'pinyifn', 'pianyin', 'pinyinr', 'pinyic', 'ginyin', 'pincyin', 'hinyin', 'pinyrn', 'pinygin', 'pinyiny', 'pivyin', 'pinyzin', 'npinyin', 'piynyin', 'pinycin', 'pinvin', 'pinykn', 'pinyif', 'linyin', 'pinyir', 'fpinyin', 'pginyin', 'pinyinm', 'pinyij', 'pinyign', 'pinyiln', 'kpinyin', 'pinylin', 'pinyyn', 'pinyqn', 'pinyien', 'pinyxin', 'pgnyin', 'pinin', 'rpinyin', 'einyin', 'piznyin', 'pinsin', 'pfnyin', 'pinytn'}\n"
     ]
    }
   ],
   "source": [
    "print(edits1('pinyin'))"
   ]
  },
  {
   "cell_type": "markdown",
   "metadata": {},
   "source": [
    "# Test"
   ]
  },
  {
   "cell_type": "code",
   "execution_count": 37,
   "metadata": {},
   "outputs": [
    {
     "name": "stdout",
     "output_type": "stream",
     "text": [
      "yin\n",
      "ying\n",
      "ying\n"
     ]
    }
   ],
   "source": [
    "print(correct('yin'))\n",
    "print(correct('yign'))\n",
    "print(correct('yinn'))"
   ]
  },
  {
   "cell_type": "code",
   "execution_count": 38,
   "metadata": {},
   "outputs": [],
   "source": [
    "def correct_sequence_pinyin(text_pinyin):\n",
    "    return ' '.join(map(correct, text_pinyin.split()))"
   ]
  },
  {
   "cell_type": "code",
   "execution_count": 40,
   "metadata": {},
   "outputs": [
    {
     "name": "stdout",
     "output_type": "stream",
     "text": [
      "First PINYIN:  zhe shi yi ge ce shi\n",
      "Second PINYIN:  wo xiang shang qing hua da xue\n"
     ]
    }
   ],
   "source": [
    "print(\"First PINYIN: \",correct_sequence_pinyin('zhe sih yi ge ce sho'))\n",
    "print(\"Second PINYIN: \",correct_sequence_pinyin('wo xiang shagn qinng hua da xue'))"
   ]
  },
  {
   "cell_type": "markdown",
   "metadata": {},
   "source": [
    "# 思考题-homework？    \n",
    "#### 如何在不带空格的时候完成自动修整？--> 如何完成拼音的自动分割？   \n",
    "###### 提示：使用第一节课提到的语言模型!"
   ]
  },
  {
   "cell_type": "markdown",
   "metadata": {},
   "source": [
    "woyaoshangqinghua\n",
    "w yaoshangqinghua\n",
    "wo yaoshangqinghua\n",
    "woyao shangqinghua\n",
    "\n",
    "-> DP"
   ]
  },
  {
   "cell_type": "markdown",
   "metadata": {},
   "source": [
    "### n-gram"
   ]
  },
  {
   "cell_type": "code",
   "execution_count": 1,
   "metadata": {},
   "outputs": [],
   "source": [
    "import re\n",
    "import pinyin\n",
    "def cleanText(input):\n",
    "    input = re.sub('\\n+', \" \", input).lower()\n",
    "    input = re.sub('\\[[0-9]*\\]', \"\", input)\n",
    "    input = re.sub('\\[[a-z]*\\]', \"\", input)\n",
    "    filtrate = re.compile(u'[^\\u4E00-\\u9FA5]')\n",
    "    input = filtrate.sub(r' ', input)\n",
    "    input = re.sub(' +', \" \", input)\n",
    "    return input\n",
    "\n",
    "def chinese_to_pinyin(character,dlm=' '):\n",
    "    return pinyin.get(character, format='strip', delimiter=dlm)\n",
    "\n",
    "def trans_file_pinyin(sfile,dfile,lineCount=1000):\n",
    "    with open(sfile, 'r') as f:\n",
    "        fw = open(dfile, 'a')\n",
    "        for i in range(lineCount):\n",
    "            line = f.readline()\n",
    "            line = cleanText(line)\n",
    "            line = cleanText(line)\n",
    "            line = chinese_to_pinyin(line)+'\\n'\n",
    "            line = re.sub(' +', \" \", line)\n",
    "            fw.write(line)\n",
    "        fw.close()"
   ]
  },
  {
   "cell_type": "code",
   "execution_count": 2,
   "metadata": {},
   "outputs": [],
   "source": [
    "cdset = \"article_1000.txt\"\n",
    "ctset = \"article_pinyin.txt\"\n",
    "trans_file_pinyin(cdset, ctset)"
   ]
  },
  {
   "cell_type": "code",
   "execution_count": 3,
   "metadata": {},
   "outputs": [],
   "source": [
    "from collections import Counter, namedtuple\n",
    "\n",
    "def ngram(docs, N=3):\n",
    "    ngram_pred = dict()\n",
    "    total_grams = list()\n",
    "    words = list()\n",
    "    Word = namedtuple('Word', ['word', 'prob'])\n",
    "    for doc in docs:\n",
    "        doc = re.sub('\\n+', \"\", doc).lower()\n",
    "        doc = re.sub(' +', \" \", doc)\n",
    "        spw = list(doc)\n",
    "        [total_grams.append(tuple(spw[i: i+N])) for i in range(len(spw)-N+1)]\n",
    "        [words.append(tuple(spw[i:i+N-1])) for i in range(len(spw)-N+2)]\n",
    "        \n",
    "    total_word_counter = Counter(total_grams)\n",
    "    word_counter = Counter(words)\n",
    "    for key in total_word_counter:\n",
    "        word = ''.join(key[ : N-1])\n",
    "        if word not in ngram_pred:\n",
    "            ngram_pred.update({word: set()})\n",
    "        next_word_prob = total_word_counter[key] / word_counter[key[:N - 1]]\n",
    "        #w = Word(key[-1], '{:.3g}'.format(next_word_prob))\n",
    "        w = Word(key[-1], next_word_prob)\n",
    "        ngram_pred[word].add(w)\n",
    "    for word, ng in ngram_pred.items():\n",
    "        ngram_pred[word] = sorted(ng, key=lambda x: x.prob, reverse=True)\n",
    "    return ngram_pred\n",
    "\n",
    "def predict(text, predictions):\n",
    "    text = text.lower()\n",
    "    if text in predictions.keys():\n",
    "        #return list(predictions[text])[:5]\n",
    "        return { i.word:i.prob for i in predictions[text]}\n",
    "    else:\n",
    "        return {' ':0}"
   ]
  },
  {
   "cell_type": "code",
   "execution_count": 4,
   "metadata": {},
   "outputs": [],
   "source": [
    "train_file = 'article_pinyin.txt'\n",
    "readed_set = open(train_file,'r').readlines()\n",
    "predictions = ngram(readed_set, N=2)"
   ]
  },
  {
   "cell_type": "code",
   "execution_count": 5,
   "metadata": {},
   "outputs": [
    {
     "name": "stdout",
     "output_type": "stream",
     "text": [
      "请输入当前字符: p\n"
     ]
    },
    {
     "data": {
      "text/plain": [
       "{'i': 0.5273083081302259,\n",
       " 'a': 0.24773172033446006,\n",
       " 'e': 0.10531933819605052,\n",
       " 'u': 0.07187333214730475,\n",
       " 'o': 0.047767301191958725}"
      ]
     },
     "execution_count": 5,
     "metadata": {},
     "output_type": "execute_result"
    }
   ],
   "source": [
    "seg = input('请输入当前字符: ')\n",
    "predict(seg, predictions)"
   ]
  },
  {
   "cell_type": "code",
   "execution_count": 6,
   "metadata": {},
   "outputs": [],
   "source": [
    "from collections import defaultdict\n",
    "from functools import wraps\n",
    "\n",
    "def r(n,p):\n",
    "    \"\"\"\n",
    "    Args: n is the iron length\n",
    "    Return: the max revenue \n",
    "    \"\"\"\n",
    "    #print(\"start n, p:\",n, p)\n",
    "    solution.append(price[n])\n",
    "    pred_pinyin = None\n",
    "    if n == 0:\n",
    "        return p\n",
    "    else:\n",
    "        pred_pinyin = predict(price[n-1].lower(),predictions)\n",
    "        #print(pred_pinyin)\n",
    "        if price[n].lower() not in pred_pinyin.keys():\n",
    "            solution.append(' ')\n",
    "            #print(\"N: \",price[n])\n",
    "            return r(n-1, p)\n",
    "        elif \" \" not in pred_pinyin.keys():\n",
    "            return r(n-1, p)\n",
    "    if p*pred_pinyin[' '] > p*pred_pinyin[price[n]]:\n",
    "        solution.append(' ')\n",
    "        return r(n-1, p*pred_pinyin[' '])\n",
    "    return r(n-1, p*pred_pinyin[price[n]])"
   ]
  },
  {
   "cell_type": "code",
   "execution_count": 7,
   "metadata": {},
   "outputs": [],
   "source": [
    "mystr = \"woyaoqutaikong\"\n",
    "price = list(mystr)"
   ]
  },
  {
   "cell_type": "code",
   "execution_count": 8,
   "metadata": {},
   "outputs": [],
   "source": [
    "solution = []\n",
    "proofpan = r(len(price)-1,0)"
   ]
  },
  {
   "cell_type": "code",
   "execution_count": 9,
   "metadata": {
    "scrolled": true
   },
   "outputs": [
    {
     "data": {
      "text/plain": [
       "'wo yao qu tai kong'"
      ]
     },
     "execution_count": 9,
     "metadata": {},
     "output_type": "execute_result"
    }
   ],
   "source": [
    "''.join(solution[::-1])"
   ]
  }
 ],
 "metadata": {
  "kernelspec": {
   "display_name": "Python 3",
   "language": "python",
   "name": "python3"
  },
  "language_info": {
   "codemirror_mode": {
    "name": "ipython",
    "version": 3
   },
   "file_extension": ".py",
   "mimetype": "text/x-python",
   "name": "python",
   "nbconvert_exporter": "python",
   "pygments_lexer": "ipython3",
   "version": "3.7.5"
  }
 },
 "nbformat": 4,
 "nbformat_minor": 2
}
